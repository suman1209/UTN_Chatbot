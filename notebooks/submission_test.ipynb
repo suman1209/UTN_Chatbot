{
 "cells": [
  {
   "cell_type": "markdown",
   "id": "b1528133-14fd-4bc5-a0cc-82aba7cd566f",
   "metadata": {},
   "source": [
    "# Test Submission checkpoint"
   ]
  },
  {
   "cell_type": "code",
   "execution_count": null,
   "id": "b3f79750-1958-4b73-aaf9-84f9f61d0f04",
   "metadata": {},
   "outputs": [],
   "source": [
    "from transformers import AutoModel, AutoTokenizer\n",
    "checkpoint_path = \"../docs_and_results/checkpoints/checkpoint_final\"\n",
    "model = AutoModel.from_pretrained(checkpoint_path)\n",
    "tokenizer = AutoTokenizer.from_pretrained(checkpoint_path)"
   ]
  },
  {
   "cell_type": "markdown",
   "id": "68c7c852-674b-417f-b24d-723ef299b50e",
   "metadata": {},
   "source": [
    "## Load test data"
   ]
  },
  {
   "cell_type": "code",
   "execution_count": null,
   "id": "f5ef688c-2d02-45c8-a448-cc6da0c8df09",
   "metadata": {},
   "outputs": [],
   "source": [
    "## Env variables and preparation stuffs\n",
    "import sys\n",
    "sys.path.insert(0, \"../\")\n",
    "from src_code.task_utils.config_parser import ConfigParser\n",
    "configs = ConfigParser(\"../configs/configs_simple.yaml\").get_parser()"
   ]
  },
  {
   "cell_type": "code",
   "execution_count": null,
   "id": "42893493-46c6-499e-99ef-c82c8cbae5e9",
   "metadata": {},
   "outputs": [],
   "source": [
    "from src_code.data_utils.dataset import dataset_generator\n",
    "test_path = \"..//datasets/LLM Project - Test_Questions.tsv\"\n",
    "test_dataset = dataset_generator(test_path, configs.sys_role, train_ratio=0, val_ratio=0)"
   ]
  },
  {
   "cell_type": "markdown",
   "id": "0d9b2976-d39a-416f-805c-fe0d8b0ec557",
   "metadata": {},
   "source": [
    "# Evaluate checkpoint"
   ]
  },
  {
   "cell_type": "code",
   "execution_count": null,
   "id": "7dd38e8a-bc62-40da-8223-d6fc83e16db2",
   "metadata": {},
   "outputs": [],
   "source": [
    "from src_code.model_utils.model_trainer import UTNChatBot\n",
    "UTN_chat_bot = UTNChatBot(configs)"
   ]
  },
  {
   "cell_type": "code",
   "execution_count": null,
   "id": "efe42763-9f5d-4f08-a699-48c7ac48d169",
   "metadata": {},
   "outputs": [],
   "source": [
    "UTN_chat_bot.evaluate(test_dataset, result_path=\"../docs_and_results/checkpoints/../metrics_result/results.json\")"
   ]
  },
  {
   "cell_type": "markdown",
   "id": "447e47f3-1794-469a-888c-e55659138b83",
   "metadata": {},
   "source": [
    "# Get batch predictions"
   ]
  },
  {
   "cell_type": "code",
   "execution_count": null,
   "id": "27ca1dbb-78e5-45ec-b52f-dac278dfb281",
   "metadata": {},
   "outputs": [],
   "source": [
    "result_path = \"../docs_and_results/checkpoints/../metrics_result/results.csv\"\n",
    "UTN_chat_bot.infer_batch(test_dataset, result_path=result_path)"
   ]
  },
  {
   "cell_type": "code",
   "execution_count": null,
   "id": "014a84b8-91ef-4475-93f2-d22bbcc8c526",
   "metadata": {},
   "outputs": [],
   "source": [
    "import pandas as pd\n",
    "pd.set_option('display.max_colwidth', None)\n",
    "results = pd.read_csv(result_path)"
   ]
  },
  {
   "cell_type": "code",
   "execution_count": null,
   "id": "3b606243-4f46-4d07-a714-0b327d371526",
   "metadata": {},
   "outputs": [],
   "source": [
    "results"
   ]
  }
 ],
 "metadata": {
  "kernelspec": {
   "display_name": "Python 3 (ipykernel)",
   "language": "python",
   "name": "python3"
  },
  "language_info": {
   "codemirror_mode": {
    "name": "ipython",
    "version": 3
   },
   "file_extension": ".py",
   "mimetype": "text/x-python",
   "name": "python",
   "nbconvert_exporter": "python",
   "pygments_lexer": "ipython3",
   "version": "3.10.12"
  }
 },
 "nbformat": 4,
 "nbformat_minor": 5
}
