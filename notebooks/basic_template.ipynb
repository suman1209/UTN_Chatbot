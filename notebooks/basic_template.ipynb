{
 "cells": [
  {
   "cell_type": "markdown",
   "id": "7505c3742d850b43",
   "metadata": {},
   "source": [
    "# 0. Imports and setup"
   ]
  },
  {
   "cell_type": "code",
   "execution_count": null,
   "id": "d50568ebc635486f",
   "metadata": {
    "jupyter": {
     "is_executing": true
    }
   },
   "outputs": [],
   "source": [
    "# Configs\n",
    "%load_ext autoreload\n",
    "%autoreload 3\n",
    "## other standard packages\n",
    "import os\n",
    "import sys\n",
    "import os\n",
    "\n",
    "# Get the current working directory\n",
    "current_directory = os.getcwd()\n",
    "\n",
    "# Get the parent directory\n",
    "parent_directory = os.path.dirname(current_directory)\n",
    "\n",
    "# Change the working directory to the parent directory\n",
    "os.chdir(parent_directory)\n",
    "\n",
    "# Verify the change\n",
    "print(\"Current Working Directory:\", os.getcwd())\n",
    "## Env variables and preparation stuffs\n",
    "sys.path.insert(0, \"../\")\n",
    "from src_code.task_utils.config_parser import ConfigParser"
   ]
  },
  {
   "cell_type": "code",
   "execution_count": null,
   "id": "8fdb142b-78f5-447d-8c7e-33cf8acba6a9",
   "metadata": {},
   "outputs": [],
   "source": [
    "configs = ConfigParser(\"./configs/configs_simple.yaml\").get_parser()"
   ]
  },
  {
   "cell_type": "markdown",
   "id": "eff669ffff7f9575",
   "metadata": {},
   "source": [
    "# 1. DataLoading"
   ]
  },
  {
   "cell_type": "code",
   "execution_count": null,
   "id": "f970ae05-d245-4662-a371-0ce32ff54f49",
   "metadata": {},
   "outputs": [],
   "source": [
    "print(f\"{configs.batch_size = }\")\n",
    "\n",
    "from src_code.data_utils.dataset import dataset_generator\n",
    "\n",
    "final_dataset = dataset_generator(configs.data_path, configs.sys_role)"
   ]
  },
  {
   "cell_type": "markdown",
   "id": "c53aec02eb8323c3",
   "metadata": {},
   "source": [
    "# 2. Training\n"
   ]
  },
  {
   "cell_type": "code",
   "execution_count": null,
   "id": "013b8903-b534-4ec5-95e5-8045bcc0deb1",
   "metadata": {},
   "outputs": [],
   "source": [
    "from src_code.model_utils.model_trainer import UTNChatBot\n",
    "UTN_chat_bot = UTNChatBot(configs)\n",
    "# UTN_chat_bot.train(final_dataset)"
   ]
  },
  {
   "cell_type": "markdown",
   "id": "99e7a2b479301df4",
   "metadata": {},
   "source": [
    "# 3. Evaluation"
   ]
  },
  {
   "cell_type": "code",
   "execution_count": null,
   "id": "0570bc4c-171b-4430-9bc3-f3d6e11edf7d",
   "metadata": {},
   "outputs": [],
   "source": [
    "final_dataset['test'][i]['messages'][1]['content']"
   ]
  },
  {
   "cell_type": "markdown",
   "id": "14fcc7d8-aada-49b7-b8e9-b479dbbe730e",
   "metadata": {},
   "source": [
    "# 4. Inference"
   ]
  },
  {
   "cell_type": "code",
   "execution_count": null,
   "id": "4532b1fa-feac-4892-98ca-3c9a29a7400b",
   "metadata": {},
   "outputs": [],
   "source": [
    "UTN_chat_bot.infer_batch(test_dataset, result_path=\"../docs_and_results/checkpoints/../metrics_result/output.csv\")"
   ]
  },
  {
   "cell_type": "code",
   "execution_count": null,
   "id": "ce4284f6-e0ee-44f8-8c2f-e7c3ebbd41f7",
   "metadata": {},
   "outputs": [],
   "source": []
  }
 ],
 "metadata": {
  "kernelspec": {
   "display_name": "Python 3 (ipykernel)",
   "language": "python",
   "name": "python3"
  },
  "language_info": {
   "codemirror_mode": {
    "name": "ipython",
    "version": 3
   },
   "file_extension": ".py",
   "mimetype": "text/x-python",
   "name": "python",
   "nbconvert_exporter": "python",
   "pygments_lexer": "ipython3",
   "version": "3.10.12"
  }
 },
 "nbformat": 4,
 "nbformat_minor": 5
}
