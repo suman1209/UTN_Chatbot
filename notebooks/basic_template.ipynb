{
 "cells": [
  {
   "cell_type": "markdown",
   "id": "7505c3742d850b43",
   "metadata": {},
   "source": [
    "# 0. Imports and setup"
   ]
  },
  {
   "cell_type": "code",
   "execution_count": 17,
   "id": "d50568ebc635486f",
   "metadata": {
    "jupyter": {
     "is_executing": true
    }
   },
   "outputs": [
    {
     "name": "stdout",
     "output_type": "stream",
     "text": [
      "The autoreload extension is already loaded. To reload it, use:\n",
      "  %reload_ext autoreload\n"
     ]
    }
   ],
   "source": [
    "# Configs\n",
    "%load_ext autoreload\n",
    "%autoreload 3\n",
    "## other standard packages\n",
    "import os\n",
    "import sys\n",
    "## Env variables and preparation stuffs\n",
    "sys.path.insert(0, \"../\")\n",
    "from src_code.task_utils.config_parser import ConfigParser"
   ]
  },
  {
   "cell_type": "code",
   "execution_count": 18,
   "id": "8fdb142b-78f5-447d-8c7e-33cf8acba6a9",
   "metadata": {},
   "outputs": [
    {
     "name": "stdout",
     "output_type": "stream",
     "text": [
      "config = '../configs/configs_simple.yaml'\n"
     ]
    }
   ],
   "source": [
    "configs = ConfigParser(\"../configs/configs_simple.yaml\").get_parser()"
   ]
  },
  {
   "cell_type": "markdown",
   "id": "eff669ffff7f9575",
   "metadata": {},
   "source": [
    "# 1. DataLoading"
   ]
  },
  {
   "cell_type": "code",
   "execution_count": 22,
   "id": "f970ae05-d245-4662-a371-0ce32ff54f49",
   "metadata": {},
   "outputs": [
    {
     "name": "stdout",
     "output_type": "stream",
     "text": [
      "configs.batch_size = 2\n",
      "train_size = 221\n",
      "len(train_lines) = 221\n",
      "len(train_list)=221\n",
      "len(val_list)=27\n",
      "len(test_list)=29\n"
     ]
    }
   ],
   "source": [
    "print(f\"{configs.batch_size = }\")\n",
    "from src_code.data_utils.dataset import dataset_generator\n",
    "\n",
    "final_dataset = dataset_generator(configs.data_path)"
   ]
  },
  {
   "cell_type": "code",
   "execution_count": 23,
   "id": "1de4126d-93b0-4d98-88fe-17aa507f95af",
   "metadata": {},
   "outputs": [
    {
     "name": "stdout",
     "output_type": "stream",
     "text": [
      "train_size = 221\n",
      "len(train_lines) = 221\n",
      "len(train_list)=221\n",
      "len(val_list)=27\n",
      "len(test_list)=29\n"
     ]
    }
   ],
   "source": [
    "final_dataset = dataset_generator(configs.data_path)"
   ]
  },
  {
   "cell_type": "code",
   "execution_count": 24,
   "id": "e17a837d-cce4-4523-be75-f3b334478c34",
   "metadata": {},
   "outputs": [
    {
     "data": {
      "text/plain": [
       "{'messages': [{'content': 'You are Qwen, created by Alibaba Cloud. You are a helpful assistant.',\n",
       "   'role': 'system'},\n",
       "  {'content': 'Which Master’s programs at UTN currently have an open application period?',\n",
       "   'role': 'user'},\n",
       "  {'content': 'The application period for our Master’s programs AI and Robotics and Human and Artificial Intelligence has begun.',\n",
       "   'role': 'assistant'}]}"
      ]
     },
     "execution_count": 24,
     "metadata": {},
     "output_type": "execute_result"
    }
   ],
   "source": [
    "final_dataset['train'][1]"
   ]
  },
  {
   "cell_type": "markdown",
   "id": "c53aec02eb8323c3",
   "metadata": {},
   "source": [
    "# 2. Training\n"
   ]
  },
  {
   "cell_type": "markdown",
   "id": "99e7a2b479301df4",
   "metadata": {},
   "source": [
    "# 3. Evaluation"
   ]
  },
  {
   "cell_type": "code",
   "execution_count": null,
   "id": "0570bc4c-171b-4430-9bc3-f3d6e11edf7d",
   "metadata": {},
   "outputs": [],
   "source": []
  }
 ],
 "metadata": {
  "kernelspec": {
   "display_name": "Python 3 (ipykernel)",
   "language": "python",
   "name": "python3"
  },
  "language_info": {
   "codemirror_mode": {
    "name": "ipython",
    "version": 3
   },
   "file_extension": ".py",
   "mimetype": "text/x-python",
   "name": "python",
   "nbconvert_exporter": "python",
   "pygments_lexer": "ipython3",
   "version": "3.10.12"
  }
 },
 "nbformat": 4,
 "nbformat_minor": 5
}
