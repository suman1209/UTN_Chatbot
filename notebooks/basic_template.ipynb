{
 "cells": [
  {
   "cell_type": "markdown",
   "id": "7505c3742d850b43",
   "metadata": {},
   "source": [
    "0. Imports and setup"
   ]
  },
  {
   "cell_type": "code",
   "execution_count": 1,
   "id": "d50568ebc635486f",
   "metadata": {
    "jupyter": {
     "is_executing": true
    }
   },
   "outputs": [],
   "source": [
    "# Configs\n",
    "%load_ext autoreload\n",
    "%autoreload 3\n",
    "## other standard packages\n",
    "import os\n",
    "import sys\n",
    "## Env variables and preparation stuffs\n",
    "sys.path.insert(0, \"../\")\n",
    "from src_code.task_utils.config_parser import ConfigParser"
   ]
  },
  {
   "cell_type": "code",
   "execution_count": 2,
   "id": "8fdb142b-78f5-447d-8c7e-33cf8acba6a9",
   "metadata": {},
   "outputs": [
    {
     "name": "stdout",
     "output_type": "stream",
     "text": [
      "config = '../configs/configs_simple.yaml'\n"
     ]
    }
   ],
   "source": [
    "configs = ConfigParser(\"../configs/configs_simple.yaml\").get_parser()"
   ]
  },
  {
   "cell_type": "markdown",
   "id": "eff669ffff7f9575",
   "metadata": {},
   "source": [
    "1. DataLoading"
   ]
  },
  {
   "cell_type": "code",
   "execution_count": 3,
   "id": "f970ae05-d245-4662-a371-0ce32ff54f49",
   "metadata": {},
   "outputs": [
    {
     "name": "stdout",
     "output_type": "stream",
     "text": [
      "configs.batch_size = 2\n"
     ]
    }
   ],
   "source": [
    "print(f\"{configs.batch_size = }\")"
   ]
  },
  {
   "cell_type": "markdown",
   "id": "c53aec02eb8323c3",
   "metadata": {},
   "source": [
    "2. Training\n"
   ]
  },
  {
   "cell_type": "markdown",
   "id": "99e7a2b479301df4",
   "metadata": {},
   "source": [
    "3. Evaluation"
   ]
  }
 ],
 "metadata": {
  "kernelspec": {
   "display_name": "Python 3 (ipykernel)",
   "language": "python",
   "name": "python3"
  },
  "language_info": {
   "codemirror_mode": {
    "name": "ipython",
    "version": 3
   },
   "file_extension": ".py",
   "mimetype": "text/x-python",
   "name": "python",
   "nbconvert_exporter": "python",
   "pygments_lexer": "ipython3",
   "version": "3.8.10"
  }
 },
 "nbformat": 4,
 "nbformat_minor": 5
}
